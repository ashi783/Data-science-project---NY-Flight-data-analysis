{
 "cells": [
  {
   "cell_type": "code",
   "execution_count": 2,
   "metadata": {
    "collapsed": true
   },
   "outputs": [],
   "source": [
    "# EDA of NY Flight dataset"
   ]
  },
  {
   "cell_type": "code",
   "execution_count": 1,
   "metadata": {
    "collapsed": false
   },
   "outputs": [],
   "source": [
    "import pandas as pd\n",
    "import numpy as np"
   ]
  },
  {
   "cell_type": "code",
   "execution_count": 2,
   "metadata": {
    "collapsed": false
   },
   "outputs": [
    {
     "name": "stdout",
     "output_type": "stream",
     "text": [
      "F:/10 desktop/UPx/data science/project eda/Project Datasets/attachment_Project_1_NYC-Flight_data/Project_1_NYC-Flight data/\n"
     ]
    }
   ],
   "source": [
    "your_local_path=\"F:/10 desktop/UPx/data science/project eda/Project Datasets/attachment_Project_1_NYC-Flight_data/Project_1_NYC-Flight data/\"\n",
    "print(your_local_path)"
   ]
  },
  {
   "cell_type": "code",
   "execution_count": 3,
   "metadata": {
    "collapsed": false
   },
   "outputs": [],
   "source": [
    "Flight_data=pd.read_csv(your_local_path+'flight_data.csv', parse_dates=[['day', 'month', 'year']])\n",
    "#Flight_data.head()"
   ]
  },
  {
   "cell_type": "code",
   "execution_count": 6,
   "metadata": {
    "collapsed": false
   },
   "outputs": [
    {
     "name": "stderr",
     "output_type": "stream",
     "text": [
      "C:\\Users\\Ashutosh\\Anaconda3\\lib\\site-packages\\ipykernel\\__main__.py:3: SettingWithCopyWarning: \n",
      "A value is trying to be set on a copy of a slice from a DataFrame.\n",
      "Try using .loc[row_indexer,col_indexer] = value instead\n",
      "\n",
      "See the caveats in the documentation: http://pandas.pydata.org/pandas-docs/stable/indexing.html#indexing-view-versus-copy\n",
      "  app.launch_new_instance()\n"
     ]
    },
    {
     "data": {
      "text/html": [
       "<div>\n",
       "<table border=\"1\" class=\"dataframe\">\n",
       "  <thead>\n",
       "    <tr style=\"text-align: right;\">\n",
       "      <th></th>\n",
       "      <th>day_month_year</th>\n",
       "      <th>dep_delay</th>\n",
       "      <th>arr_delay</th>\n",
       "      <th>total delay</th>\n",
       "    </tr>\n",
       "  </thead>\n",
       "  <tbody>\n",
       "    <tr>\n",
       "      <th>0</th>\n",
       "      <td>2013-01-01</td>\n",
       "      <td>2.0</td>\n",
       "      <td>11.0</td>\n",
       "      <td>13.0</td>\n",
       "    </tr>\n",
       "    <tr>\n",
       "      <th>1</th>\n",
       "      <td>2013-01-01</td>\n",
       "      <td>4.0</td>\n",
       "      <td>20.0</td>\n",
       "      <td>24.0</td>\n",
       "    </tr>\n",
       "    <tr>\n",
       "      <th>2</th>\n",
       "      <td>2013-01-01</td>\n",
       "      <td>2.0</td>\n",
       "      <td>33.0</td>\n",
       "      <td>35.0</td>\n",
       "    </tr>\n",
       "    <tr>\n",
       "      <th>3</th>\n",
       "      <td>2013-01-01</td>\n",
       "      <td>-1.0</td>\n",
       "      <td>-18.0</td>\n",
       "      <td>-19.0</td>\n",
       "    </tr>\n",
       "    <tr>\n",
       "      <th>4</th>\n",
       "      <td>2013-01-01</td>\n",
       "      <td>-6.0</td>\n",
       "      <td>-25.0</td>\n",
       "      <td>-31.0</td>\n",
       "    </tr>\n",
       "    <tr>\n",
       "      <th>5</th>\n",
       "      <td>2013-01-01</td>\n",
       "      <td>-4.0</td>\n",
       "      <td>12.0</td>\n",
       "      <td>8.0</td>\n",
       "    </tr>\n",
       "    <tr>\n",
       "      <th>6</th>\n",
       "      <td>2013-01-01</td>\n",
       "      <td>-5.0</td>\n",
       "      <td>19.0</td>\n",
       "      <td>14.0</td>\n",
       "    </tr>\n",
       "    <tr>\n",
       "      <th>7</th>\n",
       "      <td>2013-01-01</td>\n",
       "      <td>-3.0</td>\n",
       "      <td>-14.0</td>\n",
       "      <td>-17.0</td>\n",
       "    </tr>\n",
       "    <tr>\n",
       "      <th>8</th>\n",
       "      <td>2013-01-01</td>\n",
       "      <td>-3.0</td>\n",
       "      <td>-8.0</td>\n",
       "      <td>-11.0</td>\n",
       "    </tr>\n",
       "    <tr>\n",
       "      <th>9</th>\n",
       "      <td>2013-01-01</td>\n",
       "      <td>-2.0</td>\n",
       "      <td>8.0</td>\n",
       "      <td>6.0</td>\n",
       "    </tr>\n",
       "    <tr>\n",
       "      <th>10</th>\n",
       "      <td>2013-01-01</td>\n",
       "      <td>-2.0</td>\n",
       "      <td>-2.0</td>\n",
       "      <td>-4.0</td>\n",
       "    </tr>\n",
       "    <tr>\n",
       "      <th>11</th>\n",
       "      <td>2013-01-01</td>\n",
       "      <td>-2.0</td>\n",
       "      <td>-3.0</td>\n",
       "      <td>-5.0</td>\n",
       "    </tr>\n",
       "    <tr>\n",
       "      <th>12</th>\n",
       "      <td>2013-01-01</td>\n",
       "      <td>-2.0</td>\n",
       "      <td>7.0</td>\n",
       "      <td>5.0</td>\n",
       "    </tr>\n",
       "    <tr>\n",
       "      <th>13</th>\n",
       "      <td>2013-01-01</td>\n",
       "      <td>-2.0</td>\n",
       "      <td>-14.0</td>\n",
       "      <td>-16.0</td>\n",
       "    </tr>\n",
       "    <tr>\n",
       "      <th>14</th>\n",
       "      <td>2013-01-01</td>\n",
       "      <td>-1.0</td>\n",
       "      <td>31.0</td>\n",
       "      <td>30.0</td>\n",
       "    </tr>\n",
       "    <tr>\n",
       "      <th>15</th>\n",
       "      <td>2013-01-01</td>\n",
       "      <td>0.0</td>\n",
       "      <td>-4.0</td>\n",
       "      <td>-4.0</td>\n",
       "    </tr>\n",
       "    <tr>\n",
       "      <th>16</th>\n",
       "      <td>2013-01-01</td>\n",
       "      <td>-1.0</td>\n",
       "      <td>-8.0</td>\n",
       "      <td>-9.0</td>\n",
       "    </tr>\n",
       "    <tr>\n",
       "      <th>17</th>\n",
       "      <td>2013-01-01</td>\n",
       "      <td>0.0</td>\n",
       "      <td>-7.0</td>\n",
       "      <td>-7.0</td>\n",
       "    </tr>\n",
       "    <tr>\n",
       "      <th>18</th>\n",
       "      <td>2013-01-01</td>\n",
       "      <td>0.0</td>\n",
       "      <td>12.0</td>\n",
       "      <td>12.0</td>\n",
       "    </tr>\n",
       "    <tr>\n",
       "      <th>19</th>\n",
       "      <td>2013-01-01</td>\n",
       "      <td>1.0</td>\n",
       "      <td>-6.0</td>\n",
       "      <td>-5.0</td>\n",
       "    </tr>\n",
       "    <tr>\n",
       "      <th>20</th>\n",
       "      <td>2013-01-01</td>\n",
       "      <td>-8.0</td>\n",
       "      <td>-8.0</td>\n",
       "      <td>-16.0</td>\n",
       "    </tr>\n",
       "    <tr>\n",
       "      <th>21</th>\n",
       "      <td>2013-01-01</td>\n",
       "      <td>-3.0</td>\n",
       "      <td>16.0</td>\n",
       "      <td>13.0</td>\n",
       "    </tr>\n",
       "    <tr>\n",
       "      <th>22</th>\n",
       "      <td>2013-01-01</td>\n",
       "      <td>-4.0</td>\n",
       "      <td>-12.0</td>\n",
       "      <td>-16.0</td>\n",
       "    </tr>\n",
       "    <tr>\n",
       "      <th>23</th>\n",
       "      <td>2013-01-01</td>\n",
       "      <td>-4.0</td>\n",
       "      <td>-8.0</td>\n",
       "      <td>-12.0</td>\n",
       "    </tr>\n",
       "    <tr>\n",
       "      <th>24</th>\n",
       "      <td>2013-01-01</td>\n",
       "      <td>0.0</td>\n",
       "      <td>-17.0</td>\n",
       "      <td>-17.0</td>\n",
       "    </tr>\n",
       "    <tr>\n",
       "      <th>25</th>\n",
       "      <td>2013-01-01</td>\n",
       "      <td>8.0</td>\n",
       "      <td>32.0</td>\n",
       "      <td>40.0</td>\n",
       "    </tr>\n",
       "    <tr>\n",
       "      <th>26</th>\n",
       "      <td>2013-01-01</td>\n",
       "      <td>11.0</td>\n",
       "      <td>14.0</td>\n",
       "      <td>25.0</td>\n",
       "    </tr>\n",
       "    <tr>\n",
       "      <th>27</th>\n",
       "      <td>2013-01-01</td>\n",
       "      <td>3.0</td>\n",
       "      <td>4.0</td>\n",
       "      <td>7.0</td>\n",
       "    </tr>\n",
       "    <tr>\n",
       "      <th>28</th>\n",
       "      <td>2013-01-01</td>\n",
       "      <td>0.0</td>\n",
       "      <td>-21.0</td>\n",
       "      <td>-21.0</td>\n",
       "    </tr>\n",
       "    <tr>\n",
       "      <th>29</th>\n",
       "      <td>2013-01-01</td>\n",
       "      <td>0.0</td>\n",
       "      <td>-9.0</td>\n",
       "      <td>-9.0</td>\n",
       "    </tr>\n",
       "    <tr>\n",
       "      <th>...</th>\n",
       "      <td>...</td>\n",
       "      <td>...</td>\n",
       "      <td>...</td>\n",
       "      <td>...</td>\n",
       "    </tr>\n",
       "    <tr>\n",
       "      <th>336746</th>\n",
       "      <td>2013-09-30</td>\n",
       "      <td>-2.0</td>\n",
       "      <td>-24.0</td>\n",
       "      <td>-26.0</td>\n",
       "    </tr>\n",
       "    <tr>\n",
       "      <th>336747</th>\n",
       "      <td>2013-09-30</td>\n",
       "      <td>-2.0</td>\n",
       "      <td>-9.0</td>\n",
       "      <td>-11.0</td>\n",
       "    </tr>\n",
       "    <tr>\n",
       "      <th>336748</th>\n",
       "      <td>2013-09-30</td>\n",
       "      <td>-2.0</td>\n",
       "      <td>-31.0</td>\n",
       "      <td>-33.0</td>\n",
       "    </tr>\n",
       "    <tr>\n",
       "      <th>336749</th>\n",
       "      <td>2013-09-30</td>\n",
       "      <td>30.0</td>\n",
       "      <td>-2.0</td>\n",
       "      <td>28.0</td>\n",
       "    </tr>\n",
       "    <tr>\n",
       "      <th>336750</th>\n",
       "      <td>2013-09-30</td>\n",
       "      <td>-9.0</td>\n",
       "      <td>-30.0</td>\n",
       "      <td>-39.0</td>\n",
       "    </tr>\n",
       "    <tr>\n",
       "      <th>336751</th>\n",
       "      <td>2013-09-30</td>\n",
       "      <td>0.0</td>\n",
       "      <td>-30.0</td>\n",
       "      <td>-30.0</td>\n",
       "    </tr>\n",
       "    <tr>\n",
       "      <th>336752</th>\n",
       "      <td>2013-09-30</td>\n",
       "      <td>13.0</td>\n",
       "      <td>11.0</td>\n",
       "      <td>24.0</td>\n",
       "    </tr>\n",
       "    <tr>\n",
       "      <th>336753</th>\n",
       "      <td>2013-09-30</td>\n",
       "      <td>0.0</td>\n",
       "      <td>-25.0</td>\n",
       "      <td>-25.0</td>\n",
       "    </tr>\n",
       "    <tr>\n",
       "      <th>336754</th>\n",
       "      <td>2013-09-30</td>\n",
       "      <td>10.0</td>\n",
       "      <td>3.0</td>\n",
       "      <td>13.0</td>\n",
       "    </tr>\n",
       "    <tr>\n",
       "      <th>336755</th>\n",
       "      <td>2013-09-30</td>\n",
       "      <td>-7.0</td>\n",
       "      <td>-23.0</td>\n",
       "      <td>-30.0</td>\n",
       "    </tr>\n",
       "    <tr>\n",
       "      <th>336756</th>\n",
       "      <td>2013-09-30</td>\n",
       "      <td>-9.0</td>\n",
       "      <td>-16.0</td>\n",
       "      <td>-25.0</td>\n",
       "    </tr>\n",
       "    <tr>\n",
       "      <th>336757</th>\n",
       "      <td>2013-09-30</td>\n",
       "      <td>194.0</td>\n",
       "      <td>194.0</td>\n",
       "      <td>388.0</td>\n",
       "    </tr>\n",
       "    <tr>\n",
       "      <th>336758</th>\n",
       "      <td>2013-09-30</td>\n",
       "      <td>-2.0</td>\n",
       "      <td>8.0</td>\n",
       "      <td>6.0</td>\n",
       "    </tr>\n",
       "    <tr>\n",
       "      <th>336759</th>\n",
       "      <td>2013-09-30</td>\n",
       "      <td>27.0</td>\n",
       "      <td>7.0</td>\n",
       "      <td>34.0</td>\n",
       "    </tr>\n",
       "    <tr>\n",
       "      <th>336760</th>\n",
       "      <td>2013-09-30</td>\n",
       "      <td>72.0</td>\n",
       "      <td>57.0</td>\n",
       "      <td>129.0</td>\n",
       "    </tr>\n",
       "    <tr>\n",
       "      <th>336761</th>\n",
       "      <td>2013-09-30</td>\n",
       "      <td>-14.0</td>\n",
       "      <td>-21.0</td>\n",
       "      <td>-35.0</td>\n",
       "    </tr>\n",
       "    <tr>\n",
       "      <th>336762</th>\n",
       "      <td>2013-09-30</td>\n",
       "      <td>80.0</td>\n",
       "      <td>42.0</td>\n",
       "      <td>122.0</td>\n",
       "    </tr>\n",
       "    <tr>\n",
       "      <th>336763</th>\n",
       "      <td>2013-09-30</td>\n",
       "      <td>154.0</td>\n",
       "      <td>130.0</td>\n",
       "      <td>284.0</td>\n",
       "    </tr>\n",
       "    <tr>\n",
       "      <th>336764</th>\n",
       "      <td>2013-09-30</td>\n",
       "      <td>-8.0</td>\n",
       "      <td>-8.0</td>\n",
       "      <td>-16.0</td>\n",
       "    </tr>\n",
       "    <tr>\n",
       "      <th>336765</th>\n",
       "      <td>2013-09-30</td>\n",
       "      <td>-5.0</td>\n",
       "      <td>-17.0</td>\n",
       "      <td>-22.0</td>\n",
       "    </tr>\n",
       "    <tr>\n",
       "      <th>336766</th>\n",
       "      <td>2013-09-30</td>\n",
       "      <td>-10.0</td>\n",
       "      <td>-20.0</td>\n",
       "      <td>-30.0</td>\n",
       "    </tr>\n",
       "    <tr>\n",
       "      <th>336767</th>\n",
       "      <td>2013-09-30</td>\n",
       "      <td>-5.0</td>\n",
       "      <td>-16.0</td>\n",
       "      <td>-21.0</td>\n",
       "    </tr>\n",
       "    <tr>\n",
       "      <th>336768</th>\n",
       "      <td>2013-09-30</td>\n",
       "      <td>12.0</td>\n",
       "      <td>1.0</td>\n",
       "      <td>13.0</td>\n",
       "    </tr>\n",
       "    <tr>\n",
       "      <th>336769</th>\n",
       "      <td>2013-09-30</td>\n",
       "      <td>-10.0</td>\n",
       "      <td>-25.0</td>\n",
       "      <td>-35.0</td>\n",
       "    </tr>\n",
       "    <tr>\n",
       "      <th>336770</th>\n",
       "      <td>2013-09-30</td>\n",
       "      <td>NaN</td>\n",
       "      <td>NaN</td>\n",
       "      <td>NaN</td>\n",
       "    </tr>\n",
       "    <tr>\n",
       "      <th>336771</th>\n",
       "      <td>2013-09-30</td>\n",
       "      <td>NaN</td>\n",
       "      <td>NaN</td>\n",
       "      <td>NaN</td>\n",
       "    </tr>\n",
       "    <tr>\n",
       "      <th>336772</th>\n",
       "      <td>2013-09-30</td>\n",
       "      <td>NaN</td>\n",
       "      <td>NaN</td>\n",
       "      <td>NaN</td>\n",
       "    </tr>\n",
       "    <tr>\n",
       "      <th>336773</th>\n",
       "      <td>2013-09-30</td>\n",
       "      <td>NaN</td>\n",
       "      <td>NaN</td>\n",
       "      <td>NaN</td>\n",
       "    </tr>\n",
       "    <tr>\n",
       "      <th>336774</th>\n",
       "      <td>2013-09-30</td>\n",
       "      <td>NaN</td>\n",
       "      <td>NaN</td>\n",
       "      <td>NaN</td>\n",
       "    </tr>\n",
       "    <tr>\n",
       "      <th>336775</th>\n",
       "      <td>2013-09-30</td>\n",
       "      <td>NaN</td>\n",
       "      <td>NaN</td>\n",
       "      <td>NaN</td>\n",
       "    </tr>\n",
       "  </tbody>\n",
       "</table>\n",
       "<p>336776 rows × 4 columns</p>\n",
       "</div>"
      ],
      "text/plain": [
       "       day_month_year  dep_delay  arr_delay  total delay\n",
       "0          2013-01-01        2.0       11.0         13.0\n",
       "1          2013-01-01        4.0       20.0         24.0\n",
       "2          2013-01-01        2.0       33.0         35.0\n",
       "3          2013-01-01       -1.0      -18.0        -19.0\n",
       "4          2013-01-01       -6.0      -25.0        -31.0\n",
       "5          2013-01-01       -4.0       12.0          8.0\n",
       "6          2013-01-01       -5.0       19.0         14.0\n",
       "7          2013-01-01       -3.0      -14.0        -17.0\n",
       "8          2013-01-01       -3.0       -8.0        -11.0\n",
       "9          2013-01-01       -2.0        8.0          6.0\n",
       "10         2013-01-01       -2.0       -2.0         -4.0\n",
       "11         2013-01-01       -2.0       -3.0         -5.0\n",
       "12         2013-01-01       -2.0        7.0          5.0\n",
       "13         2013-01-01       -2.0      -14.0        -16.0\n",
       "14         2013-01-01       -1.0       31.0         30.0\n",
       "15         2013-01-01        0.0       -4.0         -4.0\n",
       "16         2013-01-01       -1.0       -8.0         -9.0\n",
       "17         2013-01-01        0.0       -7.0         -7.0\n",
       "18         2013-01-01        0.0       12.0         12.0\n",
       "19         2013-01-01        1.0       -6.0         -5.0\n",
       "20         2013-01-01       -8.0       -8.0        -16.0\n",
       "21         2013-01-01       -3.0       16.0         13.0\n",
       "22         2013-01-01       -4.0      -12.0        -16.0\n",
       "23         2013-01-01       -4.0       -8.0        -12.0\n",
       "24         2013-01-01        0.0      -17.0        -17.0\n",
       "25         2013-01-01        8.0       32.0         40.0\n",
       "26         2013-01-01       11.0       14.0         25.0\n",
       "27         2013-01-01        3.0        4.0          7.0\n",
       "28         2013-01-01        0.0      -21.0        -21.0\n",
       "29         2013-01-01        0.0       -9.0         -9.0\n",
       "...               ...        ...        ...          ...\n",
       "336746     2013-09-30       -2.0      -24.0        -26.0\n",
       "336747     2013-09-30       -2.0       -9.0        -11.0\n",
       "336748     2013-09-30       -2.0      -31.0        -33.0\n",
       "336749     2013-09-30       30.0       -2.0         28.0\n",
       "336750     2013-09-30       -9.0      -30.0        -39.0\n",
       "336751     2013-09-30        0.0      -30.0        -30.0\n",
       "336752     2013-09-30       13.0       11.0         24.0\n",
       "336753     2013-09-30        0.0      -25.0        -25.0\n",
       "336754     2013-09-30       10.0        3.0         13.0\n",
       "336755     2013-09-30       -7.0      -23.0        -30.0\n",
       "336756     2013-09-30       -9.0      -16.0        -25.0\n",
       "336757     2013-09-30      194.0      194.0        388.0\n",
       "336758     2013-09-30       -2.0        8.0          6.0\n",
       "336759     2013-09-30       27.0        7.0         34.0\n",
       "336760     2013-09-30       72.0       57.0        129.0\n",
       "336761     2013-09-30      -14.0      -21.0        -35.0\n",
       "336762     2013-09-30       80.0       42.0        122.0\n",
       "336763     2013-09-30      154.0      130.0        284.0\n",
       "336764     2013-09-30       -8.0       -8.0        -16.0\n",
       "336765     2013-09-30       -5.0      -17.0        -22.0\n",
       "336766     2013-09-30      -10.0      -20.0        -30.0\n",
       "336767     2013-09-30       -5.0      -16.0        -21.0\n",
       "336768     2013-09-30       12.0        1.0         13.0\n",
       "336769     2013-09-30      -10.0      -25.0        -35.0\n",
       "336770     2013-09-30        NaN        NaN          NaN\n",
       "336771     2013-09-30        NaN        NaN          NaN\n",
       "336772     2013-09-30        NaN        NaN          NaN\n",
       "336773     2013-09-30        NaN        NaN          NaN\n",
       "336774     2013-09-30        NaN        NaN          NaN\n",
       "336775     2013-09-30        NaN        NaN          NaN\n",
       "\n",
       "[336776 rows x 4 columns]"
      ]
     },
     "execution_count": 6,
     "metadata": {},
     "output_type": "execute_result"
    }
   ],
   "source": [
    "dep_delay_df=Flight_data[['day_month_year', 'dep_delay','arr_delay']]\n",
    "#dep_delay_df\n",
    "dep_delay_df['total delay']=dep_delay_df['dep_delay']+dep_delay_df['arr_delay']\n",
    "dep_delay_df"
   ]
  },
  {
   "cell_type": "code",
   "execution_count": 155,
   "metadata": {
    "collapsed": false
   },
   "outputs": [
    {
     "data": {
      "text/plain": [
       "datetime.date(2013, 2, 9)"
      ]
     },
     "execution_count": 155,
     "metadata": {},
     "output_type": "execute_result"
    }
   ],
   "source": [
    "#code snipet to show the average delay for each date, it will give the idea which day is best or worst to travel in 2013\n",
    "dep_delay_df1=dep_delay_df.dropna()\n",
    "abs_delay=dep_delay_df1[dep_delay_df1['total delay']>0]\n",
    "abs_delay_avg_day = abs_delay.groupby([abs_delay['day_month_year'].dt.date])['total delay'].mean()\n",
    "abs_delay_avg_day.idxmax()"
   ]
  },
  {
   "cell_type": "code",
   "execution_count": 146,
   "metadata": {
    "collapsed": false
   },
   "outputs": [
    {
     "data": {
      "image/png": "[encoded data removed]",
      "text/plain": [
       "<matplotlib.figure.Figure at 0xf67f790>"
      ]
     },
     "metadata": {},
     "output_type": "display_data"
    }
   ],
   "source": [
    "import matplotlib.pyplot as plt\n",
    "abs_delay_avg_day.plot.bar(figsize=(30,15))\n",
    "plt.show()"
   ]
  },
  {
   "cell_type": "code",
   "execution_count": 158,
   "metadata": {
    "collapsed": false
   },
   "outputs": [
    {
     "data": {
      "text/plain": [
       "6"
      ]
     },
     "execution_count": 158,
     "metadata": {},
     "output_type": "execute_result"
    }
   ],
   "source": [
    "abs_delay_avg_month = abs_delay.groupby([abs_delay['day_month_year'].dt.month])['total delay'].mean()\n",
    "abs_delay_avg_month.idxmax()"
   ]
  },
  {
   "cell_type": "code",
   "execution_count": 156,
   "metadata": {
    "collapsed": false
   },
   "outputs": [
    {
     "data": {
      "image/png": "[encoded data removed]",
      "text/plain": [
       "<matplotlib.figure.Figure at 0xcbc2090>"
      ]
     },
     "metadata": {},
     "output_type": "display_data"
    }
   ],
   "source": [
    "abs_delay_avg_month.plot.bar(figsize= (20,10))\n",
    "plt.show()"
   ]
  },
  {
   "cell_type": "code",
   "execution_count": 11,
   "metadata": {
    "collapsed": false
   },
   "outputs": [
    {
     "name": "stderr",
     "output_type": "stream",
     "text": [
      "C:\\Users\\Ashutosh\\Anaconda3\\lib\\site-packages\\ipykernel\\__main__.py:3: SettingWithCopyWarning: \n",
      "A value is trying to be set on a copy of a slice from a DataFrame.\n",
      "Try using .loc[row_indexer,col_indexer] = value instead\n",
      "\n",
      "See the caveats in the documentation: http://pandas.pydata.org/pandas-docs/stable/indexing.html#indexing-view-versus-copy\n",
      "  app.launch_new_instance()\n"
     ]
    },
    {
     "data": {
      "text/html": [
       "<div>\n",
       "<table border=\"1\" class=\"dataframe\">\n",
       "  <thead>\n",
       "    <tr style=\"text-align: right;\">\n",
       "      <th></th>\n",
       "      <th>dep_delay</th>\n",
       "      <th>origin</th>\n",
       "    </tr>\n",
       "  </thead>\n",
       "  <tbody>\n",
       "    <tr>\n",
       "      <th>0</th>\n",
       "      <td>2.0</td>\n",
       "      <td>EWR</td>\n",
       "    </tr>\n",
       "    <tr>\n",
       "      <th>1</th>\n",
       "      <td>4.0</td>\n",
       "      <td>LGA</td>\n",
       "    </tr>\n",
       "    <tr>\n",
       "      <th>2</th>\n",
       "      <td>2.0</td>\n",
       "      <td>JFK</td>\n",
       "    </tr>\n",
       "    <tr>\n",
       "      <th>3</th>\n",
       "      <td>1.0</td>\n",
       "      <td>JFK</td>\n",
       "    </tr>\n",
       "    <tr>\n",
       "      <th>4</th>\n",
       "      <td>6.0</td>\n",
       "      <td>LGA</td>\n",
       "    </tr>\n",
       "  </tbody>\n",
       "</table>\n",
       "</div>"
      ],
      "text/plain": [
       "   dep_delay origin\n",
       "0        2.0    EWR\n",
       "1        4.0    LGA\n",
       "2        2.0    JFK\n",
       "3        1.0    JFK\n",
       "4        6.0    LGA"
      ]
     },
     "execution_count": 11,
     "metadata": {},
     "output_type": "execute_result"
    }
   ],
   "source": [
    "#Analysis for best airports in terms of departure time\n",
    "dep_airport_df = Flight_data[['dep_delay', 'origin']]\n",
    "dep_airport_df['dep_delay']=dep_airport_df['dep_delay'].abs()\n",
    "dep_airport_df.head()"
   ]
  },
  {
   "cell_type": "code",
   "execution_count": 12,
   "metadata": {
    "collapsed": false
   },
   "outputs": [
    {
     "data": {
      "text/plain": [
       "origin\n",
       "EWR    19.843779\n",
       "JFK    17.118374\n",
       "LGA    17.287068\n",
       "Name: dep_delay, dtype: float64"
      ]
     },
     "execution_count": 12,
     "metadata": {},
     "output_type": "execute_result"
    }
   ],
   "source": [
    "#grouping the delay according to origin\n",
    "dep_origin_df=dep_airport_df.groupby([dep_airport_df['origin']])['dep_delay'].mean()\n",
    "dep_origin_df"
   ]
  },
  {
   "cell_type": "code",
   "execution_count": 13,
   "metadata": {
    "collapsed": false
   },
   "outputs": [
    {
     "data": {
      "image/png": "[encoded data removed]",
      "text/plain": [
       "<matplotlib.figure.Figure at 0xc7a51d0>"
      ]
     },
     "metadata": {},
     "output_type": "display_data"
    }
   ],
   "source": [
    "dep_origin_df.plot.bar()\n",
    "plt.show()"
   ]
  },
  {
   "cell_type": "code",
   "execution_count": 161,
   "metadata": {
    "collapsed": false
   },
   "outputs": [
    {
     "data": {
      "text/plain": [
       "1"
      ]
     },
     "execution_count": 161,
     "metadata": {},
     "output_type": "execute_result"
    }
   ],
   "source": [
    "# finding the busiest airport in terms of no of incoming flights ie: busiest airport in the terms of incoming flights:\n",
    "arrival_df=Flight_data['dest'].value_counts()\n",
    "arrival_df.min()"
   ]
  },
  {
   "cell_type": "code",
   "execution_count": 15,
   "metadata": {
    "collapsed": false
   },
   "outputs": [
    {
     "data": {
      "image/png": "[encoded data removed]",
      "text/plain": [
       "<matplotlib.figure.Figure at 0xc648870>"
      ]
     },
     "metadata": {},
     "output_type": "display_data"
    }
   ],
   "source": [
    "arrival_df.plot(kind='bar', figsize=(24,6))\n",
    "plt.show()"
   ]
  },
  {
   "cell_type": "code",
   "execution_count": 16,
   "metadata": {
    "collapsed": false
   },
   "outputs": [
    {
     "data": {
      "text/html": [
       "<div>\n",
       "<table border=\"1\" class=\"dataframe\">\n",
       "  <thead>\n",
       "    <tr style=\"text-align: right;\">\n",
       "      <th></th>\n",
       "      <th>carrier</th>\n",
       "      <th>distance</th>\n",
       "      <th>air_time</th>\n",
       "      <th>speed</th>\n",
       "    </tr>\n",
       "  </thead>\n",
       "  <tbody>\n",
       "    <tr>\n",
       "      <th>0</th>\n",
       "      <td>UA</td>\n",
       "      <td>1400</td>\n",
       "      <td>3.783333</td>\n",
       "      <td>370.044053</td>\n",
       "    </tr>\n",
       "    <tr>\n",
       "      <th>1</th>\n",
       "      <td>UA</td>\n",
       "      <td>1416</td>\n",
       "      <td>3.783333</td>\n",
       "      <td>374.273128</td>\n",
       "    </tr>\n",
       "    <tr>\n",
       "      <th>2</th>\n",
       "      <td>AA</td>\n",
       "      <td>1089</td>\n",
       "      <td>2.666667</td>\n",
       "      <td>408.375000</td>\n",
       "    </tr>\n",
       "    <tr>\n",
       "      <th>3</th>\n",
       "      <td>B6</td>\n",
       "      <td>1576</td>\n",
       "      <td>3.050000</td>\n",
       "      <td>516.721311</td>\n",
       "    </tr>\n",
       "    <tr>\n",
       "      <th>4</th>\n",
       "      <td>DL</td>\n",
       "      <td>762</td>\n",
       "      <td>1.933333</td>\n",
       "      <td>394.137931</td>\n",
       "    </tr>\n",
       "  </tbody>\n",
       "</table>\n",
       "</div>"
      ],
      "text/plain": [
       "  carrier  distance  air_time       speed\n",
       "0      UA      1400  3.783333  370.044053\n",
       "1      UA      1416  3.783333  374.273128\n",
       "2      AA      1089  2.666667  408.375000\n",
       "3      B6      1576  3.050000  516.721311\n",
       "4      DL       762  1.933333  394.137931"
      ]
     },
     "execution_count": 16,
     "metadata": {},
     "output_type": "execute_result"
    }
   ],
   "source": [
    "# calculating average speed for different carriers:\n",
    "airspeed_df=Flight_data[['carrier','distance','air_time']].dropna()\n",
    "airspeed_df['air_time']=airspeed_df['air_time']/60\n",
    "#airspeed_df.head()\n",
    "airspeed_df['speed']=airspeed_df['distance']/airspeed_df['air_time']\n",
    "airspeed_df.head()"
   ]
  },
  {
   "cell_type": "code",
   "execution_count": 17,
   "metadata": {
    "collapsed": false
   },
   "outputs": [
    {
     "data": {
      "text/plain": [
       "carrier\n",
       "9E    345.430398\n",
       "AA    417.472739\n",
       "AS    443.678889\n",
       "B6    399.971468\n",
       "DL    418.462807\n",
       "EV    362.943626\n",
       "F9    425.172111\n",
       "FL    394.358094\n",
       "HA    480.357719\n",
       "MQ    368.402836\n",
       "OO    366.320085\n",
       "UA    420.883774\n",
       "US    341.939717\n",
       "VX    446.174935\n",
       "WN    400.532009\n",
       "YV    331.969987\n",
       "Name: speed, dtype: float64"
      ]
     },
     "execution_count": 17,
     "metadata": {},
     "output_type": "execute_result"
    }
   ],
   "source": [
    "airspeed_df=airspeed_df.groupby([airspeed_df['carrier']])['speed'].mean()\n",
    "airspeed_df"
   ]
  },
  {
   "cell_type": "code",
   "execution_count": 18,
   "metadata": {
    "collapsed": false
   },
   "outputs": [
    {
     "data": {
      "image/png": "[encoded data removed]",
      "text/plain": [
       "<matplotlib.figure.Figure at 0xc84b850>"
      ]
     },
     "metadata": {},
     "output_type": "display_data"
    }
   ],
   "source": [
    "airspeed_df.plot(kind='barh', figsize=(24,12))\n",
    "plt.show()"
   ]
  },
  {
   "cell_type": "code",
   "execution_count": 43,
   "metadata": {
    "collapsed": false
   },
   "outputs": [
    {
     "data": {
      "text/html": [
       "<div>\n",
       "<table border=\"1\" class=\"dataframe\">\n",
       "  <thead>\n",
       "    <tr style=\"text-align: right;\">\n",
       "      <th></th>\n",
       "      <th>carrier</th>\n",
       "      <th>distance</th>\n",
       "      <th>total delay</th>\n",
       "    </tr>\n",
       "  </thead>\n",
       "  <tbody>\n",
       "    <tr>\n",
       "      <th>0</th>\n",
       "      <td>UA</td>\n",
       "      <td>1400</td>\n",
       "      <td>13.0</td>\n",
       "    </tr>\n",
       "    <tr>\n",
       "      <th>1</th>\n",
       "      <td>UA</td>\n",
       "      <td>1416</td>\n",
       "      <td>24.0</td>\n",
       "    </tr>\n",
       "    <tr>\n",
       "      <th>2</th>\n",
       "      <td>AA</td>\n",
       "      <td>1089</td>\n",
       "      <td>35.0</td>\n",
       "    </tr>\n",
       "    <tr>\n",
       "      <th>3</th>\n",
       "      <td>B6</td>\n",
       "      <td>1576</td>\n",
       "      <td>-19.0</td>\n",
       "    </tr>\n",
       "    <tr>\n",
       "      <th>4</th>\n",
       "      <td>DL</td>\n",
       "      <td>762</td>\n",
       "      <td>-31.0</td>\n",
       "    </tr>\n",
       "  </tbody>\n",
       "</table>\n",
       "</div>"
      ],
      "text/plain": [
       "  carrier  distance  total delay\n",
       "0      UA      1400         13.0\n",
       "1      UA      1416         24.0\n",
       "2      AA      1089         35.0\n",
       "3      B6      1576        -19.0\n",
       "4      DL       762        -31.0"
      ]
     },
     "execution_count": 43,
     "metadata": {},
     "output_type": "execute_result"
    }
   ],
   "source": [
    "#analysis based on how distance has the impact on total dealy for a perticular carrier\n",
    "dep_delay_df1['total delay'].tail()\n",
    "distance_delay= [Flight_data[['carrier', 'distance']], dep_delay_df1['total delay']]\n",
    "distance_delay_df= pd.concat(distance_delay,axis=1)\n",
    "distance_delay_df.head()"
   ]
  },
  {
   "cell_type": "code",
   "execution_count": 91,
   "metadata": {
    "collapsed": false
   },
   "outputs": [
    {
     "data": {
      "text/html": [
       "<div>\n",
       "<table border=\"1\" class=\"dataframe\">\n",
       "  <thead>\n",
       "    <tr style=\"text-align: right;\">\n",
       "      <th></th>\n",
       "      <th>carrier</th>\n",
       "      <th>distance</th>\n",
       "      <th>total delay</th>\n",
       "    </tr>\n",
       "  </thead>\n",
       "  <tbody>\n",
       "    <tr>\n",
       "      <th>0</th>\n",
       "      <td>9E</td>\n",
       "      <td>530.235753</td>\n",
       "      <td>23.819244</td>\n",
       "    </tr>\n",
       "    <tr>\n",
       "      <th>1</th>\n",
       "      <td>AA</td>\n",
       "      <td>1340.235999</td>\n",
       "      <td>8.933421</td>\n",
       "    </tr>\n",
       "    <tr>\n",
       "      <th>2</th>\n",
       "      <td>AS</td>\n",
       "      <td>2402.000000</td>\n",
       "      <td>-4.100141</td>\n",
       "    </tr>\n",
       "    <tr>\n",
       "      <th>3</th>\n",
       "      <td>B6</td>\n",
       "      <td>1068.621525</td>\n",
       "      <td>22.425521</td>\n",
       "    </tr>\n",
       "    <tr>\n",
       "      <th>4</th>\n",
       "      <td>DL</td>\n",
       "      <td>1236.901206</td>\n",
       "      <td>10.868291</td>\n",
       "    </tr>\n",
       "    <tr>\n",
       "      <th>5</th>\n",
       "      <td>EV</td>\n",
       "      <td>562.991730</td>\n",
       "      <td>35.635360</td>\n",
       "    </tr>\n",
       "    <tr>\n",
       "      <th>6</th>\n",
       "      <td>F9</td>\n",
       "      <td>1620.000000</td>\n",
       "      <td>42.121880</td>\n",
       "    </tr>\n",
       "    <tr>\n",
       "      <th>7</th>\n",
       "      <td>FL</td>\n",
       "      <td>664.829448</td>\n",
       "      <td>38.721890</td>\n",
       "    </tr>\n",
       "    <tr>\n",
       "      <th>8</th>\n",
       "      <td>HA</td>\n",
       "      <td>4983.000000</td>\n",
       "      <td>-2.014620</td>\n",
       "    </tr>\n",
       "    <tr>\n",
       "      <th>9</th>\n",
       "      <td>MQ</td>\n",
       "      <td>569.532712</td>\n",
       "      <td>21.220114</td>\n",
       "    </tr>\n",
       "    <tr>\n",
       "      <th>10</th>\n",
       "      <td>OO</td>\n",
       "      <td>500.812500</td>\n",
       "      <td>24.517241</td>\n",
       "    </tr>\n",
       "    <tr>\n",
       "      <th>11</th>\n",
       "      <td>UA</td>\n",
       "      <td>1529.114873</td>\n",
       "      <td>15.574920</td>\n",
       "    </tr>\n",
       "    <tr>\n",
       "      <th>12</th>\n",
       "      <td>US</td>\n",
       "      <td>553.456272</td>\n",
       "      <td>5.874288</td>\n",
       "    </tr>\n",
       "    <tr>\n",
       "      <th>13</th>\n",
       "      <td>VX</td>\n",
       "      <td>2499.482177</td>\n",
       "      <td>14.521110</td>\n",
       "    </tr>\n",
       "    <tr>\n",
       "      <th>14</th>\n",
       "      <td>WN</td>\n",
       "      <td>996.269084</td>\n",
       "      <td>27.310777</td>\n",
       "    </tr>\n",
       "    <tr>\n",
       "      <th>15</th>\n",
       "      <td>YV</td>\n",
       "      <td>375.033278</td>\n",
       "      <td>34.455882</td>\n",
       "    </tr>\n",
       "  </tbody>\n",
       "</table>\n",
       "</div>"
      ],
      "text/plain": [
       "   carrier     distance  total delay\n",
       "0       9E   530.235753    23.819244\n",
       "1       AA  1340.235999     8.933421\n",
       "2       AS  2402.000000    -4.100141\n",
       "3       B6  1068.621525    22.425521\n",
       "4       DL  1236.901206    10.868291\n",
       "5       EV   562.991730    35.635360\n",
       "6       F9  1620.000000    42.121880\n",
       "7       FL   664.829448    38.721890\n",
       "8       HA  4983.000000    -2.014620\n",
       "9       MQ   569.532712    21.220114\n",
       "10      OO   500.812500    24.517241\n",
       "11      UA  1529.114873    15.574920\n",
       "12      US   553.456272     5.874288\n",
       "13      VX  2499.482177    14.521110\n",
       "14      WN   996.269084    27.310777\n",
       "15      YV   375.033278    34.455882"
      ]
     },
     "execution_count": 91,
     "metadata": {},
     "output_type": "execute_result"
    }
   ],
   "source": [
    "#grouping it according to carrier names\n",
    "distance_delay_df=distance_delay_df.groupby([distance_delay_df['carrier']],as_index=False).mean()\n",
    "distance_delay_df"
   ]
  },
  {
   "cell_type": "code",
   "execution_count": 92,
   "metadata": {
    "collapsed": false
   },
   "outputs": [
    {
     "data": {
      "image/png": "[encoded data removed]",
      "text/plain": [
       "<matplotlib.figure.Figure at 0x1fd6fbb0>"
      ]
     },
     "metadata": {},
     "output_type": "display_data"
    }
   ],
   "source": [
    "#plotting the scatter plot shows total delay is more for the fligts for shorter distances:\n",
    "distance_delay_df.plot.scatter('distance','total delay')\n",
    "plt.show()"
   ]
  },
  {
   "cell_type": "code",
   "execution_count": 22,
   "metadata": {
    "collapsed": false
   },
   "outputs": [
    {
     "data": {
      "text/html": [
       "<div>\n",
       "<table border=\"1\" class=\"dataframe\">\n",
       "  <thead>\n",
       "    <tr style=\"text-align: right;\">\n",
       "      <th></th>\n",
       "      <th>dep_time</th>\n",
       "      <th>dep_delay</th>\n",
       "    </tr>\n",
       "    <tr>\n",
       "      <th>dep_time</th>\n",
       "      <th></th>\n",
       "      <th></th>\n",
       "    </tr>\n",
       "  </thead>\n",
       "  <tbody>\n",
       "    <tr>\n",
       "      <th>(0, 100]</th>\n",
       "      <td>28.984496</td>\n",
       "      <td>238.705426</td>\n",
       "    </tr>\n",
       "    <tr>\n",
       "      <th>(100, 200]</th>\n",
       "      <td>128.878788</td>\n",
       "      <td>301.151515</td>\n",
       "    </tr>\n",
       "    <tr>\n",
       "      <th>(200, 300]</th>\n",
       "      <td>212.416667</td>\n",
       "      <td>333.250000</td>\n",
       "    </tr>\n",
       "    <tr>\n",
       "      <th>(500, 600]</th>\n",
       "      <td>557.288525</td>\n",
       "      <td>5.085519</td>\n",
       "    </tr>\n",
       "    <tr>\n",
       "      <th>(600, 700]</th>\n",
       "      <td>635.366913</td>\n",
       "      <td>6.054132</td>\n",
       "    </tr>\n",
       "    <tr>\n",
       "      <th>(700, 800]</th>\n",
       "      <td>738.493775</td>\n",
       "      <td>7.340343</td>\n",
       "    </tr>\n",
       "    <tr>\n",
       "      <th>(800, 900]</th>\n",
       "      <td>833.529572</td>\n",
       "      <td>7.590079</td>\n",
       "    </tr>\n",
       "    <tr>\n",
       "      <th>(900, 1000]</th>\n",
       "      <td>936.617253</td>\n",
       "      <td>9.465662</td>\n",
       "    </tr>\n",
       "    <tr>\n",
       "      <th>(1000, 1100]</th>\n",
       "      <td>1035.814076</td>\n",
       "      <td>11.416618</td>\n",
       "    </tr>\n",
       "    <tr>\n",
       "      <th>(1100, 1200]</th>\n",
       "      <td>1133.329249</td>\n",
       "      <td>10.626482</td>\n",
       "    </tr>\n",
       "    <tr>\n",
       "      <th>(1200, 1300]</th>\n",
       "      <td>1237.298980</td>\n",
       "      <td>14.296977</td>\n",
       "    </tr>\n",
       "    <tr>\n",
       "      <th>(1300, 1400]</th>\n",
       "      <td>1333.717850</td>\n",
       "      <td>14.738053</td>\n",
       "    </tr>\n",
       "    <tr>\n",
       "      <th>(1400, 1500]</th>\n",
       "      <td>1438.241940</td>\n",
       "      <td>13.004462</td>\n",
       "    </tr>\n",
       "    <tr>\n",
       "      <th>(1500, 1600]</th>\n",
       "      <td>1534.014007</td>\n",
       "      <td>15.847442</td>\n",
       "    </tr>\n",
       "    <tr>\n",
       "      <th>(1600, 1700]</th>\n",
       "      <td>1632.493079</td>\n",
       "      <td>19.031917</td>\n",
       "    </tr>\n",
       "    <tr>\n",
       "      <th>(1700, 1800]</th>\n",
       "      <td>1735.230979</td>\n",
       "      <td>20.703988</td>\n",
       "    </tr>\n",
       "    <tr>\n",
       "      <th>(1800, 1900]</th>\n",
       "      <td>1833.826080</td>\n",
       "      <td>22.298486</td>\n",
       "    </tr>\n",
       "    <tr>\n",
       "      <th>(1900, 2000]</th>\n",
       "      <td>1932.890019</td>\n",
       "      <td>23.909884</td>\n",
       "    </tr>\n",
       "    <tr>\n",
       "      <th>(2000, 2100]</th>\n",
       "      <td>2035.517010</td>\n",
       "      <td>35.783710</td>\n",
       "    </tr>\n",
       "    <tr>\n",
       "      <th>(2100, 2200]</th>\n",
       "      <td>2127.315315</td>\n",
       "      <td>57.214500</td>\n",
       "    </tr>\n",
       "    <tr>\n",
       "      <th>(2200, 2300]</th>\n",
       "      <td>2225.902412</td>\n",
       "      <td>107.018640</td>\n",
       "    </tr>\n",
       "    <tr>\n",
       "      <th>(2300, 2400]</th>\n",
       "      <td>2327.662011</td>\n",
       "      <td>179.885475</td>\n",
       "    </tr>\n",
       "  </tbody>\n",
       "</table>\n",
       "</div>"
      ],
      "text/plain": [
       "                 dep_time   dep_delay\n",
       "dep_time                             \n",
       "(0, 100]        28.984496  238.705426\n",
       "(100, 200]     128.878788  301.151515\n",
       "(200, 300]     212.416667  333.250000\n",
       "(500, 600]     557.288525    5.085519\n",
       "(600, 700]     635.366913    6.054132\n",
       "(700, 800]     738.493775    7.340343\n",
       "(800, 900]     833.529572    7.590079\n",
       "(900, 1000]    936.617253    9.465662\n",
       "(1000, 1100]  1035.814076   11.416618\n",
       "(1100, 1200]  1133.329249   10.626482\n",
       "(1200, 1300]  1237.298980   14.296977\n",
       "(1300, 1400]  1333.717850   14.738053\n",
       "(1400, 1500]  1438.241940   13.004462\n",
       "(1500, 1600]  1534.014007   15.847442\n",
       "(1600, 1700]  1632.493079   19.031917\n",
       "(1700, 1800]  1735.230979   20.703988\n",
       "(1800, 1900]  1833.826080   22.298486\n",
       "(1900, 2000]  1932.890019   23.909884\n",
       "(2000, 2100]  2035.517010   35.783710\n",
       "(2100, 2200]  2127.315315   57.214500\n",
       "(2200, 2300]  2225.902412  107.018640\n",
       "(2300, 2400]  2327.662011  179.885475"
      ]
     },
     "execution_count": 22,
     "metadata": {},
     "output_type": "execute_result"
    }
   ],
   "source": [
    "#finding the average delay on the basis of day and night for different origins:(best time to fly from that perticular origin)\n",
    "#first divide the dataset into three different data sets as per the origin.\n",
    "bins = [0,100, 200, 300,400,500,600,700,800,900,1000,1100,1200,1300,1400,1500,1600,1700,1800,1900,2000,2100,2200,2300,2400]\n",
    "EWR_df=Flight_data[Flight_data.origin==\"EWR\"].dropna()\n",
    "EWR_df=EWR_df[['dep_time','dep_delay']].abs()\n",
    "EWR_df=EWR_df.groupby(pd.cut(EWR_df['dep_time'], bins=bins)).mean().dropna() #this is very important - to group integer time as time-range\n",
    "JFK_df=Flight_data[Flight_data.origin==\"JFK\"].dropna()\n",
    "JFK_df=JFK_df[['dep_time','dep_delay']].abs()\n",
    "JFK_df=JFK_df.groupby(pd.cut(JFK_df['dep_time'], bins=bins)).mean().dropna()\n",
    "LGA_df=Flight_data[Flight_data.origin==\"LGA\"].dropna()\n",
    "LGA_df=LGA_df[['dep_time','dep_delay']].abs()\n",
    "LGA_df=LGA_df.groupby(pd.cut(LGA_df['dep_time'], bins=bins)).mean().dropna()\n",
    "LGA_df"
   ]
  },
  {
   "cell_type": "code",
   "execution_count": 23,
   "metadata": {
    "collapsed": false
   },
   "outputs": [
    {
     "data": {
      "image/png": "[encoded data removed]",
      "text/plain": [
       "<matplotlib.figure.Figure at 0xc7a3fd0>"
      ]
     },
     "metadata": {},
     "output_type": "display_data"
    },
    {
     "data": {
      "image/png": "[encoded data removed]",
      "text/plain": [
       "<matplotlib.figure.Figure at 0xcd47c50>"
      ]
     },
     "metadata": {},
     "output_type": "display_data"
    },
    {
     "data": {
      "image/png": "[encoded data removed]",
      "text/plain": [
       "<matplotlib.figure.Figure at 0xcd47c90>"
      ]
     },
     "metadata": {},
     "output_type": "display_data"
    }
   ],
   "source": [
    "#lets draw the bar graph to know at what time during the day average delay is least through out the year, \"best time of the day to travel\"\n",
    "EWR_df.plot(y='dep_delay', kind='bar', figsize=(24,6), title='EWR average delay')\n",
    "JFK_df.plot(y='dep_delay', kind='bar', figsize=(24,6), title='JFK average delay')\n",
    "LGA_df.plot(y='dep_delay', kind='bar', figsize=(24,6), title='LGA average delay')\n",
    "plt.show()"
   ]
  },
  {
   "cell_type": "code",
   "execution_count": 179,
   "metadata": {
    "collapsed": false
   },
   "outputs": [
    {
     "name": "stdout",
     "output_type": "stream",
     "text": [
      "UA    58665\n",
      "B6    54635\n",
      "EV    54173\n",
      "DL    48110\n",
      "AA    32729\n",
      "MQ    26397\n",
      "US    20536\n",
      "9E    18460\n",
      "WN    12275\n",
      "VX     5162\n",
      "FL     3260\n",
      "AS      714\n",
      "F9      685\n",
      "YV      601\n",
      "HA      342\n",
      "OO       32\n",
      "Name: carrier, dtype: int64\n"
     ]
    },
    {
     "data": {
      "text/html": [
       "<div>\n",
       "<table border=\"1\" class=\"dataframe\">\n",
       "  <thead>\n",
       "    <tr style=\"text-align: right;\">\n",
       "      <th></th>\n",
       "      <th>count</th>\n",
       "      <th>total delay</th>\n",
       "      <th>ratio</th>\n",
       "    </tr>\n",
       "  </thead>\n",
       "  <tbody>\n",
       "    <tr>\n",
       "      <th>9E</th>\n",
       "      <td>18460</td>\n",
       "      <td>23.819244</td>\n",
       "      <td>0.001290</td>\n",
       "    </tr>\n",
       "    <tr>\n",
       "      <th>AA</th>\n",
       "      <td>32729</td>\n",
       "      <td>8.933421</td>\n",
       "      <td>0.000273</td>\n",
       "    </tr>\n",
       "    <tr>\n",
       "      <th>AS</th>\n",
       "      <td>714</td>\n",
       "      <td>4.100141</td>\n",
       "      <td>0.005742</td>\n",
       "    </tr>\n",
       "    <tr>\n",
       "      <th>B6</th>\n",
       "      <td>54635</td>\n",
       "      <td>22.425521</td>\n",
       "      <td>0.000410</td>\n",
       "    </tr>\n",
       "    <tr>\n",
       "      <th>DL</th>\n",
       "      <td>48110</td>\n",
       "      <td>10.868291</td>\n",
       "      <td>0.000226</td>\n",
       "    </tr>\n",
       "    <tr>\n",
       "      <th>EV</th>\n",
       "      <td>54173</td>\n",
       "      <td>35.635360</td>\n",
       "      <td>0.000658</td>\n",
       "    </tr>\n",
       "    <tr>\n",
       "      <th>F9</th>\n",
       "      <td>685</td>\n",
       "      <td>42.121880</td>\n",
       "      <td>0.061492</td>\n",
       "    </tr>\n",
       "    <tr>\n",
       "      <th>FL</th>\n",
       "      <td>3260</td>\n",
       "      <td>38.721890</td>\n",
       "      <td>0.011878</td>\n",
       "    </tr>\n",
       "    <tr>\n",
       "      <th>HA</th>\n",
       "      <td>342</td>\n",
       "      <td>2.014620</td>\n",
       "      <td>0.005891</td>\n",
       "    </tr>\n",
       "    <tr>\n",
       "      <th>MQ</th>\n",
       "      <td>26397</td>\n",
       "      <td>21.220114</td>\n",
       "      <td>0.000804</td>\n",
       "    </tr>\n",
       "    <tr>\n",
       "      <th>OO</th>\n",
       "      <td>32</td>\n",
       "      <td>24.517241</td>\n",
       "      <td>0.766164</td>\n",
       "    </tr>\n",
       "    <tr>\n",
       "      <th>UA</th>\n",
       "      <td>58665</td>\n",
       "      <td>15.574920</td>\n",
       "      <td>0.000265</td>\n",
       "    </tr>\n",
       "    <tr>\n",
       "      <th>US</th>\n",
       "      <td>20536</td>\n",
       "      <td>5.874288</td>\n",
       "      <td>0.000286</td>\n",
       "    </tr>\n",
       "    <tr>\n",
       "      <th>VX</th>\n",
       "      <td>5162</td>\n",
       "      <td>14.521110</td>\n",
       "      <td>0.002813</td>\n",
       "    </tr>\n",
       "    <tr>\n",
       "      <th>WN</th>\n",
       "      <td>12275</td>\n",
       "      <td>27.310777</td>\n",
       "      <td>0.002225</td>\n",
       "    </tr>\n",
       "    <tr>\n",
       "      <th>YV</th>\n",
       "      <td>601</td>\n",
       "      <td>34.455882</td>\n",
       "      <td>0.057331</td>\n",
       "    </tr>\n",
       "  </tbody>\n",
       "</table>\n",
       "</div>"
      ],
      "text/plain": [
       "    count  total delay     ratio\n",
       "9E  18460    23.819244  0.001290\n",
       "AA  32729     8.933421  0.000273\n",
       "AS    714     4.100141  0.005742\n",
       "B6  54635    22.425521  0.000410\n",
       "DL  48110    10.868291  0.000226\n",
       "EV  54173    35.635360  0.000658\n",
       "F9    685    42.121880  0.061492\n",
       "FL   3260    38.721890  0.011878\n",
       "HA    342     2.014620  0.005891\n",
       "MQ  26397    21.220114  0.000804\n",
       "OO     32    24.517241  0.766164\n",
       "UA  58665    15.574920  0.000265\n",
       "US  20536     5.874288  0.000286\n",
       "VX   5162    14.521110  0.002813\n",
       "WN  12275    27.310777  0.002225\n",
       "YV    601    34.455882  0.057331"
      ]
     },
     "execution_count": 179,
     "metadata": {},
     "output_type": "execute_result"
    }
   ],
   "source": [
    "#next we will find the best carrier to travel with by calculating ratio of total delay time to no of flight; lower the ratio better is the carrier\n",
    "counts=Flight_data.carrier.value_counts(sort=True)\n",
    "print(counts)\n",
    "ratio_df= pd.concat([distance_delay_df['carrier'], distance_delay_df['total delay'].abs()], axis=1)\n",
    "ratio_df=ratio_df.set_index('carrier')\n",
    "ratio_df1=pd.concat([counts,ratio_df], axis=1)\n",
    "ratio_df1.rename(columns={'carrier': 'count'}, inplace=True)\n",
    "ratio_df1['ratio']=ratio_df1['total delay']/ratio_df1['count']\n",
    "ratio_df1\n",
    "\n"
   ]
  },
  {
   "cell_type": "code",
   "execution_count": 175,
   "metadata": {
    "collapsed": false
   },
   "outputs": [
    {
     "data": {
      "image/png": "[encoded data removed]",
      "text/plain": [
       "<matplotlib.figure.Figure at 0xc616230>"
      ]
     },
     "metadata": {},
     "output_type": "display_data"
    }
   ],
   "source": [
    "#lower value of the ratio indicates the delay as as compared to total no of flights by that perticular carrier.\n",
    "#as per the plot OO carrier has the largest ratio, which means its worst carrier to fly with.\n",
    "ratio_df1.plot(y='ratio', kind='barh', title='ratio as per the count of flight', figsize=(30,15))\n",
    "plt.show()"
   ]
  },
  {
   "cell_type": "code",
   "execution_count": null,
   "metadata": {
    "collapsed": true
   },
   "outputs": [],
   "source": []
  }
 ],
 "metadata": {
  "kernelspec": {
   "display_name": "Python 3",
   "language": "python",
   "name": "python3"
  },
  "language_info": {
   "codemirror_mode": {
    "name": "ipython",
    "version": 3
   },
   "file_extension": ".py",
   "mimetype": "text/x-python",
   "name": "python",
   "nbconvert_exporter": "python",
   "pygments_lexer": "ipython3",
   "version": "3.6.0"
  }
 },
 "nbformat": 4,
 "nbformat_minor": 2
}
